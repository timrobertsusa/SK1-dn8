{
 "cells": [
  {
   "cell_type": "code",
   "execution_count": null,
   "metadata": {},
   "outputs": [],
   "source": [
    "!python -m pip install --upgrade semantic-kernel\n"
   ]
  },
  {
   "cell_type": "code",
   "execution_count": 1,
   "metadata": {},
   "outputs": [],
   "source": [
    "from dotenv import load_dotenv\n",
    "import os\n",
    "\n",
    "load_dotenv('../../.env')\n",
    "\n",
    "deployment = os.environ.get(\"AZURE_OPENAI_DEPLOYMENT_NAME\")\n",
    "apikey = os.environ.get(\"AZURE_OPENAI_API_KEY\")\n",
    "endpoint = os.environ.get(\"AZURE_OPENAI_ENDPOINT\")\n",
    "#print(deployment, apikey, endpoint)\n"
   ]
  },
  {
   "cell_type": "code",
   "execution_count": 2,
   "metadata": {},
   "outputs": [
    {
     "data": {
      "text/plain": [
       "<semantic_kernel.kernel.Kernel at 0x7f8de66c75e0>"
      ]
     },
     "execution_count": 2,
     "metadata": {},
     "output_type": "execute_result"
    }
   ],
   "source": [
    "import semantic_kernel as sk\n",
    "from semantic_kernel.connectors.ai.open_ai import AzureChatCompletion\n",
    "skkernel = sk.Kernel()\n",
    "skkernel.add_chat_service (\"myTurbo\", AzureChatCompletion(deployment_name=deployment, endpoint=endpoint, api_key=apikey))"
   ]
  },
  {
   "cell_type": "code",
   "execution_count": 3,
   "metadata": {},
   "outputs": [
    {
     "name": "stdout",
     "output_type": "stream",
     "text": [
      "Three laws for robot behavior.\n"
     ]
    }
   ],
   "source": [
    "# Wrap your prompt in a function\n",
    "prompt = skkernel.create_semantic_function(\"\"\"\n",
    "    1) A robot may not injure a human being or, through inaction,allow a human being to come to harm.\n",
    "    2) A robot must obey orders given it by human beings except wheresuch orders would conflict with the First Law.\n",
    "    3) A robot must protect its own existence as long as such protectiondoes not conflict with the First or Second Law.\n",
    "    Summarize in exactly 5 words.\"\"\")\n",
    "# Run your prompt\n",
    "print(prompt()) # => Robots must not harm humans.\n",
    "#Give me the TLDR in exactly 5 words.\"\"\")"
   ]
  }
 ],
 "metadata": {
  "kernelspec": {
   "display_name": "Python 3",
   "language": "python",
   "name": "python3"
  },
  "language_info": {
   "codemirror_mode": {
    "name": "ipython",
    "version": 3
   },
   "file_extension": ".py",
   "mimetype": "text/x-python",
   "name": "python",
   "nbconvert_exporter": "python",
   "pygments_lexer": "ipython3",
   "version": "3.10.13"
  }
 },
 "nbformat": 4,
 "nbformat_minor": 2
}
