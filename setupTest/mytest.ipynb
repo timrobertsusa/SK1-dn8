{
 "cells": [
  {
   "cell_type": "code",
   "execution_count": null,
   "metadata": {
    "dotnet_interactive": {
     "language": "csharp"
    },
    "polyglot_notebook": {
     "kernelName": "csharp"
    }
   },
   "outputs": [],
   "source": [
    "#!python -m pip install semantic-kernel==0.4.3.dev0\n",
    "\n",
    "!python -m pip install --upgrade semantic-kernel\n",
    "\n"
   ]
  },
  {
   "cell_type": "code",
   "execution_count": 2,
   "metadata": {},
   "outputs": [
    {
     "name": "stdout",
     "output_type": "stream",
     "text": [
      "apikey apikey endpoint\n"
     ]
    }
   ],
   "source": [
    "from dotenv import load_dotenv, find_dotenv\n",
    "import os\n",
    "#load_dotenv(find_dotenv())\n",
    "load_dotenv('../../.env')\n",
    "\n",
    "x = os.environ['AZURE_OPENAI_API_KEY']\n",
    "z = os.environ.get(\"AZURE_OPENAI_API_KEY\")\n",
    "zz = os.environ.get(\"AZURE_OPENAI_ENDPOINT\")\n",
    "print(x,z,zz)"
   ]
  },
  {
   "cell_type": "code",
   "execution_count": 1,
   "metadata": {
    "dotnet_interactive": {
     "language": "csharp"
    },
    "polyglot_notebook": {
     "kernelName": "csharp"
    }
   },
   "outputs": [
    {
     "name": "stdout",
     "output_type": "stream",
     "text": [
      "Python 3.10.13\n"
     ]
    }
   ],
   "source": [
    "import sys\n",
    "!{sys.executable} --version\n",
    "# or terminal - python3 -m pip --version\n",
    "# and wheel update -- python3 -m pip install --upgrade pip setuptools wheel"
   ]
  },
  {
   "cell_type": "markdown",
   "metadata": {},
   "source": [
    "---\n",
    "***--Create vitual env if needed***\n",
    "\n",
    "Unix/macOS\n",
    "python3 -m venv tutorial_env\n",
    "source tutorial_env/bin/activate\n",
    "\n",
    "\n",
    "This will create a new virtual environment in the tutorial_env subdirectory, and configure the current shell to use it as the default python environment.\n",
    "\n"
   ]
  },
  {
   "cell_type": "code",
   "execution_count": null,
   "metadata": {},
   "outputs": [],
   "source": []
  }
 ],
 "metadata": {
  "kernelspec": {
   "display_name": "Python 3",
   "language": "python",
   "name": "python3"
  },
  "language_info": {
   "codemirror_mode": {
    "name": "ipython",
    "version": 3
   },
   "file_extension": ".py",
   "mimetype": "text/x-python",
   "name": "python",
   "nbconvert_exporter": "python",
   "pygments_lexer": "ipython3",
   "version": "3.10.13"
  },
  "polyglot_notebook": {
   "kernelInfo": {
    "defaultKernelName": "csharp",
    "items": [
     {
      "aliases": [],
      "languageName": "csharp",
      "name": "csharp"
     }
    ]
   }
  }
 },
 "nbformat": 4,
 "nbformat_minor": 2
}
